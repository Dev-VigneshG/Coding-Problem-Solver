{
  "nbformat": 4,
  "nbformat_minor": 0,
  "metadata": {
    "colab": {
      "provenance": []
    },
    "kernelspec": {
      "name": "python3",
      "display_name": "Python 3"
    },
    "language_info": {
      "name": "python"
    }
  },
  "cells": [
    {
      "cell_type": "code",
      "execution_count": null,
      "metadata": {
        "id": "BWdFqWJ461Or"
      },
      "outputs": [],
      "source": [
        "import pandas as pd\n",
        "from sklearn.feature_extraction.text import TfidfVectorizer\n",
        "from sklearn.neighbors import NearestNeighbors\n",
        "import nltk\n",
        "from nltk.corpus import stopwords\n",
        "from nltk.stem import PorterStemmer\n",
        "\n",
        "nltk.download('stopwords')\n",
        "nltk.download('punkt')\n",
        "\n",
        "stop_words = set(stopwords.words('english'))\n",
        "stemmer = PorterStemmer()\n",
        "\n",
        "def preprocess(txt):\n",
        "    tokens = nltk.word_tokenize(txt.lower())\n",
        "    tokens = [stemmer.stem(w) for w in tokens if w not in stop_words]\n",
        "    return ' '.join(tokens)\n",
        "\n",
        "df = pd.read_csv('code.csv')\n",
        "df['Problem'] = df['Problem'].apply(preprocess)\n",
        "\n",
        "vec = TfidfVectorizer()\n",
        "X = vec.fit_transform(df['Problem'])\n",
        "knn = NearestNeighbors(n_neighbors=5, metric='cosine')\n",
        "knn.fit(X)\n",
        "\n",
        "THRESHOLD = 0.5\n",
        "\n",
        "query = preprocess(input(\"Enter your question: \"))\n",
        "query_vec = vec.transform([query])\n",
        "distances, indices = knn.kneighbors(query_vec)\n",
        "\n",
        "if distances[0][0] > THRESHOLD:\n",
        "    print(\"No relevant problem found.\")\n",
        "else:\n",
        "    prob = df.iloc[indices[0][0]]['Problem']\n",
        "    code = df.iloc[indices[0][0]]['Python Code']\n",
        "    print(f\"Question: \\n{prob}\")\n",
        "    print(f\"Python code for the problem:\\n{code}\")\n"
      ]
    }
  ]
}